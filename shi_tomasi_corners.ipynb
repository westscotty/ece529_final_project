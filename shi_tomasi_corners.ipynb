{
 "cells": [
  {
   "cell_type": "code",
   "execution_count": null,
   "metadata": {},
   "outputs": [
    {
     "ename": "",
     "evalue": "",
     "output_type": "error",
     "traceback": [
      "\u001b[1;31mRunning cells with 'cv2 (Python 3.12.7)' requires the ipykernel package.\n",
      "\u001b[1;31mRun the following command to install 'ipykernel' into the Python environment. \n",
      "\u001b[1;31mCommand: 'conda install -n cv2 ipykernel --update-deps --force-reinstall'"
     ]
    }
   ],
   "source": [
    "import cv2\n",
    "import numpy as np\n",
    "import matplotlib.pyplot as plt\n",
    "import os\n",
    "import sys"
   ]
  },
  {
   "cell_type": "code",
   "execution_count": null,
   "metadata": {},
   "outputs": [],
   "source": [
    "def shi_tomasi_corners(img, max_corners=15, ksize=3):\n",
    "    # Ensure the input is already in float format for processing\n",
    "    gray = np.float32(img)\n",
    "    \n",
    "    # Compute image gradients (Ix, Iy) using Sobel filters\n",
    "    Ix = cv2.Sobel(gray, cv2.CV_64F, 1, 0, ksize=ksize)\n",
    "    Iy = cv2.Sobel(gray, cv2.CV_64F, 0, 1, ksize=ksize)\n",
    "\n",
    "    # Compute elements of the covariance matrix\n",
    "    Ixx = Ix * Ix\n",
    "    Iyy = Iy * Iy\n",
    "    Ixy = Ix * Iy\n",
    "\n",
    "    # Apply Gaussian filter to the matrix elements\n",
    "    Ixx = cv2.GaussianBlur(Ixx, (ksize, ksize), 0)\n",
    "    Iyy = cv2.GaussianBlur(Iyy, (ksize, ksize), 0)\n",
    "    Ixy = cv2.GaussianBlur(Ixy, (ksize, ksize), 0)\n",
    "\n",
    "    # Compute the minimum eigenvalue (Shi-Tomasi score) for each pixel\n",
    "    det_M = Ixx * Iyy - Ixy ** 2\n",
    "    trace_M = Ixx + Iyy\n",
    "    response = det_M - 0.04 * trace_M ** 2\n",
    "\n",
    "    # Flatten the response matrix and get top N corners\n",
    "    flat_response = response.flatten()\n",
    "    top_indices = np.argsort(flat_response)[-max_corners:]\n",
    "\n",
    "    # Convert flat indices back to 2D coordinates\n",
    "    coords = np.array(np.unravel_index(top_indices, response.shape)).T\n",
    "\n",
    "    # Draw corners on the original grayscale image\n",
    "    result_img = img.copy()\n",
    "    for (y, x) in coords:\n",
    "        cv2.circle(result_img, (x, y), 3, 255, -1)  # Draw in white\n",
    "\n",
    "    return result_img, coords\n",
    "\n"
   ]
  },
  {
   "cell_type": "code",
   "execution_count": null,
   "metadata": {},
   "outputs": [],
   "source": [
    "img_name = \"extracted_frames/blue_angels_formation/frame_150.png\"\n",
    "img_file = os.path.join('data', img_name)\n",
    "img_file_out = os.path.join('test_results', img_name)\n",
    "\n",
    "if not (os.path.isfile(img_file)):\n",
    "    sys.exit(f\"File not found: {img_file}\")\n",
    "if not os.path.isdir(os.path.dirname(img_file_out)):\n",
    "    os.makedirs(os.path.dirname(img_file_out))\n",
    "    \n",
    "img = cv2.imread(img_file, cv2.IMREAD_GRAYSCALE)  # Load as grayscale\n",
    "result, corners = shi_tomasi_corners(img)\n",
    "\n",
    "print(\"Detected corners:\", corners)\n",
    "\n",
    "# Display the image with corners\n",
    "plt.title(\"Shi-Tomasi Corners\")\n",
    "plt.axis('off')\n",
    "plt.imsave(img_file_out, result, cmap='gray')\n",
    "plt.imshow(result, cmap='gray')\n",
    "plt.show()"
   ]
  }
 ],
 "metadata": {
  "kernelspec": {
   "display_name": "cv2",
   "language": "python",
   "name": "python3"
  },
  "language_info": {
   "name": "python",
   "version": "3.12.7"
  }
 },
 "nbformat": 4,
 "nbformat_minor": 2
}
